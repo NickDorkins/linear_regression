{
 "metadata": {
  "language_info": {
   "codemirror_mode": {
    "name": "ipython",
    "version": 3
   },
   "file_extension": ".py",
   "mimetype": "text/x-python",
   "name": "python",
   "nbconvert_exporter": "python",
   "pygments_lexer": "ipython3",
   "version": "3.9.0-final"
  },
  "orig_nbformat": 2,
  "kernelspec": {
   "name": "python3",
   "display_name": "Python 3.9.0 64-bit ('.venv')",
   "metadata": {
    "interpreter": {
     "hash": "a1b06717a8c39fc9daa22d03c68907eff98fb605fcfefbd5b199dc736f922898"
    }
   }
  }
 },
 "nbformat": 4,
 "nbformat_minor": 2,
 "cells": [
  {
   "cell_type": "code",
   "execution_count": 3,
   "metadata": {},
   "outputs": [],
   "source": [
    "import pandas as pd \n",
    "import numpy as np\n",
    "%matplotlib inline\n",
    "import matplotlib.pyplot as plt \n",
    "from sklearn.linear_model import LinearRegression\n",
    "from sklearn.model_selection import train_test_split"
   ]
  },
  {
   "cell_type": "code",
   "execution_count": 4,
   "metadata": {},
   "outputs": [
    {
     "output_type": "execute_result",
     "data": {
      "text/plain": [
       "   year                 name  gender    status   salary  pay_basis  \\\n",
       "0  1997       Abedin,Huma M.  Female  Employee  27500.0  Per Annum   \n",
       "1  1997       Abrams,Lori E.  Female  Employee  35000.0  Per Annum   \n",
       "2  1997      Alcorn,Brian A.    Male  Employee  25000.0  Per Annum   \n",
       "3  1997  Allen,Jeannetta Pam  Female  Employee  22000.0  Per Annum   \n",
       "4  1997   Allison,Donna Tate  Female  Employee  27624.0  Per Annum   \n",
       "\n",
       "                       position_title  \n",
       "0                      OFFICE MANAGER  \n",
       "1  DEPUTY DIRECTOR, WHITE HOUSE GIFTS  \n",
       "2      ASSISTANT DIRECTOR FOR ADVANCE  \n",
       "3                     STAFF ASSISTANT  \n",
       "4      WHITE HOUSE TELEPHONE OPERATOR  "
      ],
      "text/html": "<div>\n<style scoped>\n    .dataframe tbody tr th:only-of-type {\n        vertical-align: middle;\n    }\n\n    .dataframe tbody tr th {\n        vertical-align: top;\n    }\n\n    .dataframe thead th {\n        text-align: right;\n    }\n</style>\n<table border=\"1\" class=\"dataframe\">\n  <thead>\n    <tr style=\"text-align: right;\">\n      <th></th>\n      <th>year</th>\n      <th>name</th>\n      <th>gender</th>\n      <th>status</th>\n      <th>salary</th>\n      <th>pay_basis</th>\n      <th>position_title</th>\n    </tr>\n  </thead>\n  <tbody>\n    <tr>\n      <th>0</th>\n      <td>1997</td>\n      <td>Abedin,Huma M.</td>\n      <td>Female</td>\n      <td>Employee</td>\n      <td>27500.0</td>\n      <td>Per Annum</td>\n      <td>OFFICE MANAGER</td>\n    </tr>\n    <tr>\n      <th>1</th>\n      <td>1997</td>\n      <td>Abrams,Lori E.</td>\n      <td>Female</td>\n      <td>Employee</td>\n      <td>35000.0</td>\n      <td>Per Annum</td>\n      <td>DEPUTY DIRECTOR, WHITE HOUSE GIFTS</td>\n    </tr>\n    <tr>\n      <th>2</th>\n      <td>1997</td>\n      <td>Alcorn,Brian A.</td>\n      <td>Male</td>\n      <td>Employee</td>\n      <td>25000.0</td>\n      <td>Per Annum</td>\n      <td>ASSISTANT DIRECTOR FOR ADVANCE</td>\n    </tr>\n    <tr>\n      <th>3</th>\n      <td>1997</td>\n      <td>Allen,Jeannetta Pam</td>\n      <td>Female</td>\n      <td>Employee</td>\n      <td>22000.0</td>\n      <td>Per Annum</td>\n      <td>STAFF ASSISTANT</td>\n    </tr>\n    <tr>\n      <th>4</th>\n      <td>1997</td>\n      <td>Allison,Donna Tate</td>\n      <td>Female</td>\n      <td>Employee</td>\n      <td>27624.0</td>\n      <td>Per Annum</td>\n      <td>WHITE HOUSE TELEPHONE OPERATOR</td>\n    </tr>\n  </tbody>\n</table>\n</div>"
     },
     "metadata": {},
     "execution_count": 4
    }
   ],
   "source": [
    "whs = pd.read_csv('wh_staff_dataset.csv')\n",
    "whs.head()"
   ]
  },
  {
   "cell_type": "code",
   "execution_count": 5,
   "metadata": {},
   "outputs": [],
   "source": [
    "X = whs['gender'].values\n",
    "y = whs['salary'].values"
   ]
  },
  {
   "cell_type": "code",
   "execution_count": 8,
   "metadata": {},
   "outputs": [
    {
     "output_type": "error",
     "ename": "TypeError",
     "evalue": "'builtin_function_or_method' object is not subscriptable",
     "traceback": [
      "\u001b[0;31m---------------------------------------------------------------------------\u001b[0m",
      "\u001b[0;31mTypeError\u001b[0m                                 Traceback (most recent call last)",
      "\u001b[0;32m<ipython-input-8-b0352ddebd0c>\u001b[0m in \u001b[0;36m<module>\u001b[0;34m\u001b[0m\n\u001b[1;32m      6\u001b[0m     \u001b[0;32mif\u001b[0m \u001b[0mi\u001b[0m \u001b[0;34m==\u001b[0m\u001b[0;34m'Female'\u001b[0m\u001b[0;34m:\u001b[0m\u001b[0;34m\u001b[0m\u001b[0;34m\u001b[0m\u001b[0m\n\u001b[1;32m      7\u001b[0m         \u001b[0mi\u001b[0m \u001b[0;34m=\u001b[0m \u001b[0;36m1\u001b[0m\u001b[0;34m\u001b[0m\u001b[0;34m\u001b[0m\u001b[0m\n\u001b[0;32m----> 8\u001b[0;31m         \u001b[0mgender\u001b[0m\u001b[0;34m.\u001b[0m\u001b[0mappend\u001b[0m\u001b[0;34m[\u001b[0m\u001b[0mi\u001b[0m\u001b[0;34m]\u001b[0m\u001b[0;34m\u001b[0m\u001b[0;34m\u001b[0m\u001b[0m\n\u001b[0m",
      "\u001b[0;31mTypeError\u001b[0m: 'builtin_function_or_method' object is not subscriptable"
     ]
    }
   ],
   "source": [
    "for i in X:\n",
    "    if i == 'Male':\n",
    "        i = 0\n",
    "    if i =='Female':\n",
    "        i = 1\n",
    "        "
   ]
  },
  {
   "cell_type": "code",
   "execution_count": 7,
   "metadata": {},
   "outputs": [
    {
     "output_type": "execute_result",
     "data": {
      "text/plain": [
       "array(['Female', 'Female', 'Male', ..., 'Female', 'Male', 'Male'],\n",
       "      dtype=object)"
      ]
     },
     "metadata": {},
     "execution_count": 7
    }
   ],
   "source": [
    "X"
   ]
  },
  {
   "cell_type": "code",
   "execution_count": null,
   "metadata": {},
   "outputs": [],
   "source": [
    "y"
   ]
  },
  {
   "cell_type": "code",
   "execution_count": null,
   "metadata": {},
   "outputs": [],
   "source": [
    "X = X.reshape(-1, 1)\n",
    "X"
   ]
  },
  {
   "cell_type": "code",
   "execution_count": null,
   "metadata": {},
   "outputs": [],
   "source": [
    "x_train, x_test, y_train, y_test = train_test_split(X, y, train_size = .8, test_size = .2, random_state = 100)"
   ]
  },
  {
   "cell_type": "code",
   "execution_count": null,
   "metadata": {},
   "outputs": [],
   "source": [
    "print(f\"X_train shape [{x_train.shape}\")\n",
    "print(f\"y_train shape [{y_train.shape}\")\n",
    "print(f\"X_test shape [{x_test.shape}\")\n",
    "print(f\"y_test shape [{y_test.shape}\")"
   ]
  },
  {
   "cell_type": "code",
   "execution_count": null,
   "metadata": {},
   "outputs": [],
   "source": [
    "plt.scatter(x_train, y_train, color='red')\n",
    "plt.xlabel('Gender')\n",
    "plt.ylabel('Salary in USD')\n",
    "plt.title('Salaries by Gender')\n",
    "plt.show()"
   ]
  },
  {
   "cell_type": "code",
   "execution_count": null,
   "metadata": {},
   "outputs": [],
   "source": [
    "import seaborn as sns\n"
   ]
  },
  {
   "cell_type": "code",
   "execution_count": null,
   "metadata": {},
   "outputs": [],
   "source": [
    "sns.set()\n",
    "plt.figure(figsize = (10, 6), dpi = 300)\n",
    "sns.regplot(x = 'year', y = 'salary', data = whs)"
   ]
  },
  {
   "cell_type": "code",
   "execution_count": null,
   "metadata": {},
   "outputs": [],
   "source": []
  }
 ]
}